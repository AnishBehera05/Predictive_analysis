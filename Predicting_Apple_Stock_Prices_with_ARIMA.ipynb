{
  "nbformat": 4,
  "nbformat_minor": 0,
  "metadata": {
    "colab": {
      "provenance": [],
      "include_colab_link": true
    },
    "kernelspec": {
      "name": "python3",
      "display_name": "Python 3"
    },
    "language_info": {
      "name": "python"
    }
  },
  "cells": [
    {
      "cell_type": "markdown",
      "metadata": {
        "id": "view-in-github",
        "colab_type": "text"
      },
      "source": [
        "<a href=\"https://colab.research.google.com/github/AnishBehera05/Predictive_analysis_using_ML/blob/main/Predicting_Apple_Stock_Prices_with_ARIMA.ipynb\" target=\"_parent\"><img src=\"https://colab.research.google.com/assets/colab-badge.svg\" alt=\"Open In Colab\"/></a>"
      ]
    },
    {
      "cell_type": "code",
      "source": [
        "import numpy as np\n",
        "import pandas as pd\n",
        "import matplotlib.pyplot as plt\n",
        "from statsmodels.tsa.seasonal import seasonal_decompose\n",
        "from statsmodels.tsa.arima.model import ARIMA\n",
        "from sklearn.metrics import mean_squared_error\n",
        "from sklearn.model_selection import train_test_split"
      ],
      "metadata": {
        "id": "TDTTR6qt2zhS"
      },
      "execution_count": 105,
      "outputs": []
    },
    {
      "cell_type": "code",
      "source": [
        "# Load Apple stock price data\n",
        "data = pd.read_csv('data.csv')\n",
        "data['Date'] = pd.to_datetime(data['Date'])\n",
        "data.set_index('Date', inplace=True)"
      ],
      "metadata": {
        "id": "c3qGuw8zBHSO"
      },
      "execution_count": 106,
      "outputs": []
    },
    {
      "cell_type": "code",
      "source": [
        "# Perform seasonal decomposition\n",
        "result = seasonal_decompose(data['Close'], model='multiplicative', period=30)  # Adjust period as needed"
      ],
      "metadata": {
        "id": "2F4BZq21BKX7"
      },
      "execution_count": 107,
      "outputs": []
    },
    {
      "cell_type": "code",
      "source": [
        "# Split data into train and test sets\n",
        "train_size = int(len(data) * 0.8)\n",
        "train, test = data[:train_size], data[train_size:]"
      ],
      "metadata": {
        "id": "eE9wfaqzBaIh"
      },
      "execution_count": 108,
      "outputs": []
    },
    {
      "cell_type": "code",
      "source": [
        "# ARIMA model\n",
        "model = ARIMA(train['Close'], order=(5, 1, 0))\n",
        "arima_model = model.fit()"
      ],
      "metadata": {
        "colab": {
          "base_uri": "https://localhost:8080/"
        },
        "id": "HvgneRLbBckY",
        "outputId": "4a6bcf9b-ce6e-4d43-db14-03878218a986"
      },
      "execution_count": 109,
      "outputs": [
        {
          "output_type": "stream",
          "name": "stderr",
          "text": [
            "/usr/local/lib/python3.10/dist-packages/statsmodels/tsa/base/tsa_model.py:473: ValueWarning: A date index has been provided, but it has no associated frequency information and so will be ignored when e.g. forecasting.\n",
            "  self._init_dates(dates, freq)\n",
            "/usr/local/lib/python3.10/dist-packages/statsmodels/tsa/base/tsa_model.py:473: ValueWarning: A date index has been provided, but it has no associated frequency information and so will be ignored when e.g. forecasting.\n",
            "  self._init_dates(dates, freq)\n",
            "/usr/local/lib/python3.10/dist-packages/statsmodels/tsa/base/tsa_model.py:473: ValueWarning: A date index has been provided, but it has no associated frequency information and so will be ignored when e.g. forecasting.\n",
            "  self._init_dates(dates, freq)\n"
          ]
        }
      ]
    },
    {
      "cell_type": "code",
      "source": [
        "# Predictions\n",
        "history = [x for x in train['Close']]\n",
        "predictions = []\n",
        "for t in range(len(test)):\n",
        "    model = ARIMA(history, order=(5, 1, 0))\n",
        "    model_fit = model.fit()\n",
        "    output = model_fit.forecast()\n",
        "    yhat = output[0]\n",
        "    predictions.append(yhat)\n",
        "    obs = test['Close'].iloc[t]\n",
        "    history.append(obs)"
      ],
      "metadata": {
        "id": "UZO3HuyFBe3u"
      },
      "execution_count": 110,
      "outputs": []
    },
    {
      "cell_type": "code",
      "source": [
        "# Predictions\n",
        "model = ARIMA(train['Close'], order=(5, 1, 0))\n",
        "arima_model = model.fit()\n",
        "predictions = arima_model.forecast(steps=len(test))"
      ],
      "metadata": {
        "id": "cUPx4PWooCmF",
        "outputId": "9a68c959-56d6-45ab-8e28-2a2bf5434390",
        "colab": {
          "base_uri": "https://localhost:8080/"
        }
      },
      "execution_count": 111,
      "outputs": [
        {
          "output_type": "stream",
          "name": "stderr",
          "text": [
            "/usr/local/lib/python3.10/dist-packages/statsmodels/tsa/base/tsa_model.py:473: ValueWarning: A date index has been provided, but it has no associated frequency information and so will be ignored when e.g. forecasting.\n",
            "  self._init_dates(dates, freq)\n",
            "/usr/local/lib/python3.10/dist-packages/statsmodels/tsa/base/tsa_model.py:473: ValueWarning: A date index has been provided, but it has no associated frequency information and so will be ignored when e.g. forecasting.\n",
            "  self._init_dates(dates, freq)\n",
            "/usr/local/lib/python3.10/dist-packages/statsmodels/tsa/base/tsa_model.py:473: ValueWarning: A date index has been provided, but it has no associated frequency information and so will be ignored when e.g. forecasting.\n",
            "  self._init_dates(dates, freq)\n",
            "/usr/local/lib/python3.10/dist-packages/statsmodels/tsa/base/tsa_model.py:836: ValueWarning: No supported index is available. Prediction results will be given with an integer index beginning at `start`.\n",
            "  return get_prediction_index(\n",
            "/usr/local/lib/python3.10/dist-packages/statsmodels/tsa/base/tsa_model.py:836: FutureWarning: No supported index is available. In the next version, calling this method in a model without a supported index will result in an exception.\n",
            "  return get_prediction_index(\n"
          ]
        }
      ]
    },
    {
      "cell_type": "code",
      "source": [
        "# Evaluate ARIMA model\n",
        "error = mean_squared_error(test['Close'], predictions)\n",
        "print('ARIMA Mean Squared Error:', error)"
      ],
      "metadata": {
        "colab": {
          "base_uri": "https://localhost:8080/"
        },
        "id": "aK9gPIy_Bg50",
        "outputId": "44059d05-9f11-4965-d7fa-8b50041a94fe"
      },
      "execution_count": 112,
      "outputs": [
        {
          "output_type": "stream",
          "name": "stdout",
          "text": [
            "ARIMA Mean Squared Error: 1416.1559363767055\n"
          ]
        }
      ]
    },
    {
      "cell_type": "code",
      "source": [
        "# Visualize predictions\n",
        "plt.plot(test.index, test['Close'], color='blue', label='Actual')\n",
        "plt.plot(test.index, predictions, color='red', label='Predicted')\n",
        "plt.title('Apple Stock Price Prediction with ARIMA')\n",
        "plt.xlabel('Date')\n",
        "plt.ylabel('Price')\n",
        "plt.legend()\n",
        "plt.show()"
      ],
      "metadata": {
        "colab": {
          "base_uri": "https://localhost:8080/",
          "height": 472
        },
        "id": "ee56k0XUBjS7",
        "outputId": "0aa51730-7764-4f70-b95e-751db38ef294"
      },
      "execution_count": 113,
      "outputs": [
        {
          "output_type": "display_data",
          "data": {
            "text/plain": [
              "<Figure size 640x480 with 1 Axes>"
            ],
            "image/png": "[encoded data removed]"
          },
          "metadata": {}
        }
      ]
    },
    {
      "cell_type": "code",
      "source": [
        "import numpy as np\n",
        "import pandas as pd\n",
        "import matplotlib.pyplot as plt\n",
        "from statsmodels.tsa.seasonal import seasonal_decompose\n",
        "from statsmodels.tsa.arima.model import ARIMA\n",
        "from arch import arch_model\n",
        "from sklearn.metrics import mean_squared_error\n",
        "from sklearn.model_selection import train_test_split"
      ],
      "metadata": {
        "id": "phxhL_EvuzFs"
      },
      "execution_count": 114,
      "outputs": []
    },
    {
      "cell_type": "code",
      "source": [
        "# Load Apple stock price data\n",
        "data = pd.read_csv('data.csv')\n",
        "data['Date'] = pd.to_datetime(data['Date'])\n",
        "data.set_index('Date', inplace=True)"
      ],
      "metadata": {
        "id": "hpXi3UAou0-D"
      },
      "execution_count": 115,
      "outputs": []
    },
    {
      "cell_type": "code",
      "source": [
        "# Perform seasonal decomposition\n",
        "result = seasonal_decompose(data['Close'], model='multiplicative', period=30)"
      ],
      "metadata": {
        "id": "3o6NXnWtu2kT"
      },
      "execution_count": 116,
      "outputs": []
    },
    {
      "cell_type": "code",
      "source": [
        "# Split data into train and test sets\n",
        "train_size = int(len(data) * 0.8)\n",
        "train, test = data[:train_size], data[train_size:]"
      ],
      "metadata": {
        "id": "vv8WG-Jnu44Q"
      },
      "execution_count": 117,
      "outputs": []
    },
    {
      "cell_type": "code",
      "source": [
        "# Fit an ARIMA model\n",
        "model = ARIMA(train['Close'], order=(5, 1, 0))\n",
        "arima_model = model.fit()"
      ],
      "metadata": {
        "id": "VmTw-lU-u551",
        "outputId": "2b6848d1-8ebf-42bd-bd2b-6823655b5e12",
        "colab": {
          "base_uri": "https://localhost:8080/"
        }
      },
      "execution_count": 118,
      "outputs": [
        {
          "output_type": "stream",
          "name": "stderr",
          "text": [
            "/usr/local/lib/python3.10/dist-packages/statsmodels/tsa/base/tsa_model.py:473: ValueWarning: A date index has been provided, but it has no associated frequency information and so will be ignored when e.g. forecasting.\n",
            "  self._init_dates(dates, freq)\n",
            "/usr/local/lib/python3.10/dist-packages/statsmodels/tsa/base/tsa_model.py:473: ValueWarning: A date index has been provided, but it has no associated frequency information and so will be ignored when e.g. forecasting.\n",
            "  self._init_dates(dates, freq)\n",
            "/usr/local/lib/python3.10/dist-packages/statsmodels/tsa/base/tsa_model.py:473: ValueWarning: A date index has been provided, but it has no associated frequency information and so will be ignored when e.g. forecasting.\n",
            "  self._init_dates(dates, freq)\n"
          ]
        }
      ]
    },
    {
      "cell_type": "code",
      "source": [
        "# Extract residuals\n",
        "residuals = arima_model.resid"
      ],
      "metadata": {
        "id": "PXu5Jtogu7po"
      },
      "execution_count": 119,
      "outputs": []
    },
    {
      "cell_type": "code",
      "source": [
        "# Fit a GARCH model to the residuals\n",
        "garch_model = arch_model(residuals, vol='GARCH', p=1, q=1)\n",
        "garch_model_fit = garch_model.fit()"
      ],
      "metadata": {
        "id": "OCDAQQHbu-QX",
        "outputId": "fa43202d-387a-4932-fe0f-89c872cd307f",
        "colab": {
          "base_uri": "https://localhost:8080/"
        }
      },
      "execution_count": 120,
      "outputs": [
        {
          "output_type": "stream",
          "name": "stdout",
          "text": [
            "Iteration:      1,   Func. Count:      6,   Neg. LLF: 9912.150769730044\n",
            "Iteration:      2,   Func. Count:     14,   Neg. LLF: 358160.7590169115\n",
            "Iteration:      3,   Func. Count:     21,   Neg. LLF: 2194.5778022036707\n",
            "Iteration:      4,   Func. Count:     27,   Neg. LLF: 2194.9321795065916\n",
            "Iteration:      5,   Func. Count:     33,   Neg. LLF: 2189.171867982969\n",
            "Iteration:      6,   Func. Count:     39,   Neg. LLF: 2179.4380166706196\n",
            "Iteration:      7,   Func. Count:     44,   Neg. LLF: 2179.4931668135646\n",
            "Iteration:      8,   Func. Count:     50,   Neg. LLF: 2179.4294396749483\n",
            "Iteration:      9,   Func. Count:     56,   Neg. LLF: 2179.4267679444\n",
            "Iteration:     10,   Func. Count:     61,   Neg. LLF: 2179.426765725219\n",
            "Iteration:     11,   Func. Count:     65,   Neg. LLF: 2179.4267631975345\n",
            "Optimization terminated successfully    (Exit mode 0)\n",
            "            Current function value: 2179.426765725219\n",
            "            Iterations: 11\n",
            "            Function evaluations: 65\n",
            "            Gradient evaluations: 11\n"
          ]
        }
      ]
    },
    {
      "cell_type": "code",
      "source": [
        "# Initialize predictions list\n",
        "predictions = []"
      ],
      "metadata": {
        "id": "Z7lQJkkMu_TL"
      },
      "execution_count": 121,
      "outputs": []
    },
    {
      "cell_type": "code",
      "source": [
        "# Prediction loop\n",
        "history = list(train['Close'])\n",
        "for t in range(len(test)):\n",
        "    # Fit ARIMA model\n",
        "    arima_model = ARIMA(history, order=(5, 1, 0))\n",
        "    arima_model_fit = arima_model.fit()"
      ],
      "metadata": {
        "id": "pZTNv_TUvCBt"
      },
      "execution_count": 122,
      "outputs": []
    },
    {
      "cell_type": "code",
      "source": [
        "    # Extract residuals\n",
        "    residuals = arima_model_fit.resid\n",
        "\n",
        "     # Fit GARCH model to the residuals\n",
        "    garch_model = arch_model(residuals, vol='GARCH', p=1, q=1)\n",
        "    garch_model_fit = garch_model.fit()\n",
        "\n",
        "    # Forecast using ARIMA-GARCH model\n",
        "    arima_forecast = arima_model_fit.forecast(steps=1)[0]\n",
        "    garch_forecast = garch_model_fit.forecast(horizon=1).mean.iloc[-1].values[0]\n",
        "    combined_forecast = arima_forecast + garch_forecast\n",
        "\n",
        "    # Append prediction to predictions list\n",
        "    predictions.append(combined_forecast)\n",
        "\n",
        "    # Update history for next iteration\n",
        "    history.append(test['Close'].iloc[t])"
      ],
      "metadata": {
        "id": "KWr4EgAovDnn",
        "outputId": "6eafbede-9834-4d7e-abe0-28e1c3701dcd",
        "colab": {
          "base_uri": "https://localhost:8080/"
        }
      },
      "execution_count": 123,
      "outputs": [
        {
          "output_type": "stream",
          "name": "stdout",
          "text": [
            "Iteration:      1,   Func. Count:      6,   Neg. LLF: 9912.150769730044\n",
            "Iteration:      2,   Func. Count:     14,   Neg. LLF: 358160.7590169115\n",
            "Iteration:      3,   Func. Count:     21,   Neg. LLF: 2194.5778022036707\n",
            "Iteration:      4,   Func. Count:     27,   Neg. LLF: 2194.9321795065916\n",
            "Iteration:      5,   Func. Count:     33,   Neg. LLF: 2189.171867982969\n",
            "Iteration:      6,   Func. Count:     39,   Neg. LLF: 2179.4380166706196\n",
            "Iteration:      7,   Func. Count:     44,   Neg. LLF: 2179.4931668135646\n",
            "Iteration:      8,   Func. Count:     50,   Neg. LLF: 2179.4294396749483\n",
            "Iteration:      9,   Func. Count:     56,   Neg. LLF: 2179.4267679444\n",
            "Iteration:     10,   Func. Count:     61,   Neg. LLF: 2179.426765725219\n",
            "Iteration:     11,   Func. Count:     65,   Neg. LLF: 2179.4267631975345\n",
            "Optimization terminated successfully    (Exit mode 0)\n",
            "            Current function value: 2179.426765725219\n",
            "            Iterations: 11\n",
            "            Function evaluations: 65\n",
            "            Gradient evaluations: 11\n"
          ]
        }
      ]
    },
    {
      "cell_type": "code",
      "source": [
        "# Evaluate combined model\n",
        "error = mean_squared_error(test['Close'], predictions)\n",
        "print('Combined ARIMA-GARCH Mean Squared Error:', error)"
      ],
      "metadata": {
        "id": "iLStbbn_vPNP",
        "outputId": "c389a52e-5c22-4474-92cd-3fcacfd0db8e",
        "colab": {
          "base_uri": "https://localhost:8080/",
          "height": 321
        }
      },
      "execution_count": 124,
      "outputs": [
        {
          "output_type": "error",
          "ename": "ValueError",
          "evalue": "Found input variables with inconsistent numbers of samples: [252, 1]",
          "traceback": [
            "\u001b[0;31m---------------------------------------------------------------------------\u001b[0m",
            "\u001b[0;31mValueError\u001b[0m                                Traceback (most recent call last)",
            "\u001b[0;32m<ipython-input-124-614f921a4e73>\u001b[0m in \u001b[0;36m<cell line: 2>\u001b[0;34m()\u001b[0m\n\u001b[1;32m      1\u001b[0m \u001b[0;31m# Evaluate combined model\u001b[0m\u001b[0;34m\u001b[0m\u001b[0;34m\u001b[0m\u001b[0m\n\u001b[0;32m----> 2\u001b[0;31m \u001b[0merror\u001b[0m \u001b[0;34m=\u001b[0m \u001b[0mmean_squared_error\u001b[0m\u001b[0;34m(\u001b[0m\u001b[0mtest\u001b[0m\u001b[0;34m[\u001b[0m\u001b[0;34m'Close'\u001b[0m\u001b[0;34m]\u001b[0m\u001b[0;34m,\u001b[0m \u001b[0mpredictions\u001b[0m\u001b[0;34m)\u001b[0m\u001b[0;34m\u001b[0m\u001b[0;34m\u001b[0m\u001b[0m\n\u001b[0m\u001b[1;32m      3\u001b[0m \u001b[0mprint\u001b[0m\u001b[0;34m(\u001b[0m\u001b[0;34m'Combined ARIMA-GARCH Mean Squared Error:'\u001b[0m\u001b[0;34m,\u001b[0m \u001b[0merror\u001b[0m\u001b[0;34m)\u001b[0m\u001b[0;34m\u001b[0m\u001b[0;34m\u001b[0m\u001b[0m\n",
            "\u001b[0;32m/usr/local/lib/python3.10/dist-packages/sklearn/metrics/_regression.py\u001b[0m in \u001b[0;36mmean_squared_error\u001b[0;34m(y_true, y_pred, sample_weight, multioutput, squared)\u001b[0m\n\u001b[1;32m    440\u001b[0m     \u001b[0;36m0.825\u001b[0m\u001b[0;34m...\u001b[0m\u001b[0;34m\u001b[0m\u001b[0;34m\u001b[0m\u001b[0m\n\u001b[1;32m    441\u001b[0m     \"\"\"\n\u001b[0;32m--> 442\u001b[0;31m     y_type, y_true, y_pred, multioutput = _check_reg_targets(\n\u001b[0m\u001b[1;32m    443\u001b[0m         \u001b[0my_true\u001b[0m\u001b[0;34m,\u001b[0m \u001b[0my_pred\u001b[0m\u001b[0;34m,\u001b[0m \u001b[0mmultioutput\u001b[0m\u001b[0;34m\u001b[0m\u001b[0;34m\u001b[0m\u001b[0m\n\u001b[1;32m    444\u001b[0m     )\n",
            "\u001b[0;32m/usr/local/lib/python3.10/dist-packages/sklearn/metrics/_regression.py\u001b[0m in \u001b[0;36m_check_reg_targets\u001b[0;34m(y_true, y_pred, multioutput, dtype)\u001b[0m\n\u001b[1;32m     98\u001b[0m         \u001b[0mcorrect\u001b[0m \u001b[0mkeyword\u001b[0m\u001b[0;34m.\u001b[0m\u001b[0;34m\u001b[0m\u001b[0;34m\u001b[0m\u001b[0m\n\u001b[1;32m     99\u001b[0m     \"\"\"\n\u001b[0;32m--> 100\u001b[0;31m     \u001b[0mcheck_consistent_length\u001b[0m\u001b[0;34m(\u001b[0m\u001b[0my_true\u001b[0m\u001b[0;34m,\u001b[0m \u001b[0my_pred\u001b[0m\u001b[0;34m)\u001b[0m\u001b[0;34m\u001b[0m\u001b[0;34m\u001b[0m\u001b[0m\n\u001b[0m\u001b[1;32m    101\u001b[0m     \u001b[0my_true\u001b[0m \u001b[0;34m=\u001b[0m \u001b[0mcheck_array\u001b[0m\u001b[0;34m(\u001b[0m\u001b[0my_true\u001b[0m\u001b[0;34m,\u001b[0m \u001b[0mensure_2d\u001b[0m\u001b[0;34m=\u001b[0m\u001b[0;32mFalse\u001b[0m\u001b[0;34m,\u001b[0m \u001b[0mdtype\u001b[0m\u001b[0;34m=\u001b[0m\u001b[0mdtype\u001b[0m\u001b[0;34m)\u001b[0m\u001b[0;34m\u001b[0m\u001b[0;34m\u001b[0m\u001b[0m\n\u001b[1;32m    102\u001b[0m     \u001b[0my_pred\u001b[0m \u001b[0;34m=\u001b[0m \u001b[0mcheck_array\u001b[0m\u001b[0;34m(\u001b[0m\u001b[0my_pred\u001b[0m\u001b[0;34m,\u001b[0m \u001b[0mensure_2d\u001b[0m\u001b[0;34m=\u001b[0m\u001b[0;32mFalse\u001b[0m\u001b[0;34m,\u001b[0m \u001b[0mdtype\u001b[0m\u001b[0;34m=\u001b[0m\u001b[0mdtype\u001b[0m\u001b[0;34m)\u001b[0m\u001b[0;34m\u001b[0m\u001b[0;34m\u001b[0m\u001b[0m\n",
            "\u001b[0;32m/usr/local/lib/python3.10/dist-packages/sklearn/utils/validation.py\u001b[0m in \u001b[0;36mcheck_consistent_length\u001b[0;34m(*arrays)\u001b[0m\n\u001b[1;32m    395\u001b[0m     \u001b[0muniques\u001b[0m \u001b[0;34m=\u001b[0m \u001b[0mnp\u001b[0m\u001b[0;34m.\u001b[0m\u001b[0munique\u001b[0m\u001b[0;34m(\u001b[0m\u001b[0mlengths\u001b[0m\u001b[0;34m)\u001b[0m\u001b[0;34m\u001b[0m\u001b[0;34m\u001b[0m\u001b[0m\n\u001b[1;32m    396\u001b[0m     \u001b[0;32mif\u001b[0m \u001b[0mlen\u001b[0m\u001b[0;34m(\u001b[0m\u001b[0muniques\u001b[0m\u001b[0;34m)\u001b[0m \u001b[0;34m>\u001b[0m \u001b[0;36m1\u001b[0m\u001b[0;34m:\u001b[0m\u001b[0;34m\u001b[0m\u001b[0;34m\u001b[0m\u001b[0m\n\u001b[0;32m--> 397\u001b[0;31m         raise ValueError(\n\u001b[0m\u001b[1;32m    398\u001b[0m             \u001b[0;34m\"Found input variables with inconsistent numbers of samples: %r\"\u001b[0m\u001b[0;34m\u001b[0m\u001b[0;34m\u001b[0m\u001b[0m\n\u001b[1;32m    399\u001b[0m             \u001b[0;34m%\u001b[0m \u001b[0;34m[\u001b[0m\u001b[0mint\u001b[0m\u001b[0;34m(\u001b[0m\u001b[0ml\u001b[0m\u001b[0;34m)\u001b[0m \u001b[0;32mfor\u001b[0m \u001b[0ml\u001b[0m \u001b[0;32min\u001b[0m \u001b[0mlengths\u001b[0m\u001b[0;34m]\u001b[0m\u001b[0;34m\u001b[0m\u001b[0;34m\u001b[0m\u001b[0m\n",
            "\u001b[0;31mValueError\u001b[0m: Found input variables with inconsistent numbers of samples: [252, 1]"
          ]
        }
      ]
    },
    {
      "cell_type": "code",
      "source": [
        "# Visualize combined predictions\n",
        "plt.plot(test.index, test['Close'], color='blue', label='Actual')\n",
        "plt.plot(test.index, predictions, color='red', label='Combined Forecast (ARIMA-GARCH)')\n",
        "plt.title('Apple Stock Price Prediction with ARIMA-GARCH')\n",
        "plt.xlabel('Date')\n",
        "plt.ylabel('Price')\n",
        "plt.legend()\n",
        "plt.show()"
      ],
      "metadata": {
        "id": "nW-UyTJYpi-_"
      },
      "execution_count": null,
      "outputs": []
    },
    {
      "cell_type": "code",
      "source": [
        "import numpy as np\n",
        "import pandas as pd\n",
        "import matplotlib.pyplot as plt\n",
        "from statsmodels.tsa.seasonal import seasonal_decompose\n",
        "from statsmodels.tsa.arima.model import ARIMA\n",
        "from arch import arch_model\n",
        "from sklearn.metrics import mean_squared_error\n",
        "from sklearn.model_selection import train_test_split"
      ],
      "metadata": {
        "id": "RfHTe2v_vXzY"
      },
      "execution_count": null,
      "outputs": []
    },
    {
      "cell_type": "code",
      "source": [
        "# Load Apple stock price data\n",
        "data = pd.read_csv('data.csv')\n",
        "data['Date'] = pd.to_datetime(data['Date'])\n",
        "data.set_index('Date', inplace=True)"
      ],
      "metadata": {
        "id": "7QPWRO4Ivan9"
      },
      "execution_count": null,
      "outputs": []
    },
    {
      "cell_type": "code",
      "source": [
        "# Perform seasonal decomposition\n",
        "result = seasonal_decompose(data['Close'], model='multiplicative', period=30)"
      ],
      "metadata": {
        "id": "1O46nC7-vcVU"
      },
      "execution_count": null,
      "outputs": []
    },
    {
      "cell_type": "code",
      "source": [
        "# Split data into train and test sets\n",
        "train_size = int(len(data) * 0.8)\n",
        "train, test = data[:train_size], data[train_size:]"
      ],
      "metadata": {
        "id": "CJYvsCfFvfaM"
      },
      "execution_count": null,
      "outputs": []
    },
    {
      "cell_type": "code",
      "source": [
        "# Fit an ARIMA model\n",
        "model = ARIMA(train['Close'], order=(5, 1, 0))\n",
        "arima_model = model.fit()"
      ],
      "metadata": {
        "id": "_4tAsoI4vgjT"
      },
      "execution_count": null,
      "outputs": []
    },
    {
      "cell_type": "code",
      "source": [
        "# Extract residuals\n",
        "residuals = arima_model.resid"
      ],
      "metadata": {
        "id": "bgf_xy1dvhvU"
      },
      "execution_count": null,
      "outputs": []
    },
    {
      "cell_type": "code",
      "source": [
        "# Fit an ARCH model to the residuals\n",
        "arch_model_fit = arch_model(residuals, vol='ARCH', p=1).fit()"
      ],
      "metadata": {
        "id": "6Ov_89TPvjk7"
      },
      "execution_count": null,
      "outputs": []
    },
    {
      "cell_type": "code",
      "source": [
        "# Initialize predictions list\n",
        "predictions = []"
      ],
      "metadata": {
        "id": "b_0yBfnfvkvf"
      },
      "execution_count": null,
      "outputs": []
    },
    {
      "cell_type": "code",
      "source": [
        "# Prediction loop\n",
        "history = list(train['Close'])\n",
        "for t in range(len(test)):\n",
        "    # Fit ARIMA model\n",
        "    arima_model = ARIMA(history, order=(5, 1, 0))\n",
        "    arima_model_fit = arima_model.fit()\n",
        "\n",
        "    # Extract residuals\n",
        "    residuals = arima_model_fit.resid\n",
        "\n",
        "    # Fit ARCH model to the residuals\n",
        "    arch_model_fit = arch_model(residuals, vol='ARCH', p=1).fit()\n",
        "\n",
        "    # Forecast using ARIMA-ARCH model\n",
        "    arima_forecast = arima_model_fit.forecast(steps=1)[0]\n",
        "    arch_forecast = arch_model_fit.forecast(horizon=1).mean.iloc[-1].values[0]\n",
        "    combined_forecast = arima_forecast + arch_forecast\n",
        "\n",
        "    # Append prediction to predictions list\n",
        "    predictions.append(combined_forecast)\n",
        "\n",
        "    # Update history for next iteration\n",
        "    history.append(test['Close'].iloc[t])"
      ],
      "metadata": {
        "id": "nNnkS0ycvnRE"
      },
      "execution_count": null,
      "outputs": []
    },
    {
      "cell_type": "code",
      "source": [
        "# Evaluate combined model\n",
        "error = mean_squared_error(test['Close'], predictions)\n",
        "print('Combined ARIMA-ARCH Mean Squared Error:', error)"
      ],
      "metadata": {
        "id": "n4PjPW_Fvqsa"
      },
      "execution_count": null,
      "outputs": []
    },
    {
      "cell_type": "code",
      "source": [
        "# Visualize combined predictions\n",
        "plt.plot(test.index, test['Close'], color='blue', label='Actual')\n",
        "plt.plot(test.index, predictions, color='red', label='Combined Forecast (ARIMA-ARCH)')\n",
        "plt.title('Apple Stock Price Prediction with ARIMA-ARCH')\n",
        "plt.xlabel('Date')\n",
        "plt.ylabel('Price')\n",
        "plt.legend()\n",
        "plt.show()\n"
      ],
      "metadata": {
        "id": "F3UANuHGtISw"
      },
      "execution_count": null,
      "outputs": []
    }
  ]
}